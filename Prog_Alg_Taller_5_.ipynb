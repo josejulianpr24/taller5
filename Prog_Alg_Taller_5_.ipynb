{
  "nbformat": 4,
  "nbformat_minor": 0,
  "metadata": {
    "colab": {
      "provenance": [],
      "authorship_tag": "ABX9TyOMBnW9KH4Ub7eaDzGGTV6s",
      "include_colab_link": true
    },
    "kernelspec": {
      "name": "python3",
      "display_name": "Python 3"
    },
    "language_info": {
      "name": "python"
    }
  },
  "cells": [
    {
      "cell_type": "markdown",
      "metadata": {
        "id": "view-in-github",
        "colab_type": "text"
      },
      "source": [
        "<a href=\"https://colab.research.google.com/github/josejulianpr24/taller5/blob/main/Prog_Alg_Taller_5_.ipynb\" target=\"_parent\"><img src=\"https://colab.research.google.com/assets/colab-badge.svg\" alt=\"Open In Colab\"/></a>"
      ]
    },
    {
      "cell_type": "markdown",
      "source": [
        "Jose Julian Perez Ramos\n",
        "\n",
        "Jesus David Padilla Agresot"
      ],
      "metadata": {
        "id": "6i0KPU84Osvl"
      }
    },
    {
      "cell_type": "code",
      "source": [
        "name=input(\"Escirba su nombre: \")\n",
        "\n",
        "old= int(input(\"Escriba su edad:\"))\n",
        "print(\"Hello\",name)\n",
        "print(\"Su edad es: \", str(old))\n",
        ""
      ],
      "metadata": {
        "colab": {
          "base_uri": "https://localhost:8080/"
        },
        "id": "e5RsCtFcLnXz",
        "outputId": "a87ac3c8-7c60-4f6f-b9b3-14fd425753c9"
      },
      "execution_count": 2,
      "outputs": [
        {
          "output_type": "stream",
          "name": "stdout",
          "text": [
            "Escirba su nombre: Jose Julian \n",
            "Escriba su edad:20\n",
            "Hello Jose Julian \n",
            "Su edad es:  20\n"
          ]
        }
      ]
    },
    {
      "cell_type": "code",
      "source": [
        "name=input(\"Escirba su nombre: \")\n",
        "\n",
        "old= int(input(\"Escriba su edad:\"))\n",
        "print(\"Hello\",name)\n",
        "print(\"Su edad es: \", str(old))"
      ],
      "metadata": {
        "colab": {
          "base_uri": "https://localhost:8080/"
        },
        "id": "9SIpUQyRMxxz",
        "outputId": "2c369c28-f4c9-48b6-9436-30fb8397fe22"
      },
      "execution_count": 4,
      "outputs": [
        {
          "output_type": "stream",
          "name": "stdout",
          "text": [
            "Escirba su nombre: Jesus Padilla \n",
            "Escriba su edad:18\n",
            "Hello Jesus Padilla \n",
            "Su edad es:  18\n"
          ]
        }
      ]
    },
    {
      "cell_type": "markdown",
      "source": [
        "1Escribe un programa en Python que solicite al usuario un número entero posi;vo n\n",
        "y luego imprima los primeros n números naturales usando un ciclo while."
      ],
      "metadata": {
        "id": "JFAm1qCJMk3A"
      }
    },
    {
      "cell_type": "code",
      "source": [
        "n = int(input(\"Ingrese un número entero positivo: \"))\n",
        "if n <= 0:\n",
        "    print(\"Por favor, ingrese un número entero positivo.\")\n",
        "else:\n",
        "   contador = 1\n",
        "   while contador <= n:\n",
        "        print(contador)\n",
        "        contador += 1"
      ],
      "metadata": {
        "colab": {
          "base_uri": "https://localhost:8080/"
        },
        "id": "XQB-ROCQMIGe",
        "outputId": "35fa4357-7154-494b-fba2-d66b01a4e875"
      },
      "execution_count": 11,
      "outputs": [
        {
          "output_type": "stream",
          "name": "stdout",
          "text": [
            "Ingrese un número entero positivo: 8\n",
            "1\n",
            "2\n",
            "3\n",
            "4\n",
            "5\n",
            "6\n",
            "7\n",
            "8\n"
          ]
        }
      ]
    },
    {
      "cell_type": "markdown",
      "source": [
        "2 Escribe un programa en Python que calcule la suma de todos los números pares del\n",
        " 1 al 100 u;lizando un ciclo for"
      ],
      "metadata": {
        "id": "0E7lwRzVSkVX"
      }
    },
    {
      "cell_type": "code",
      "source": [
        "suma_pares = 0\n",
        "for numero in range(1, 101):\n",
        "    # Verificar si el número es par\n",
        "    if numero % 2 == 0:\n",
        "        suma_pares += numero\n",
        "        print(\"La suma de los números pares del 1 al 100 es:\", suma_pares)\n"
      ],
      "metadata": {
        "colab": {
          "base_uri": "https://localhost:8080/"
        },
        "id": "BQzXNHc-MbLB",
        "outputId": "8ae8418d-852e-476e-aca1-2cfb8af89345"
      },
      "execution_count": 12,
      "outputs": [
        {
          "output_type": "stream",
          "name": "stdout",
          "text": [
            "La suma de los números pares del 1 al 100 es: 2\n",
            "La suma de los números pares del 1 al 100 es: 6\n",
            "La suma de los números pares del 1 al 100 es: 12\n",
            "La suma de los números pares del 1 al 100 es: 20\n",
            "La suma de los números pares del 1 al 100 es: 30\n",
            "La suma de los números pares del 1 al 100 es: 42\n",
            "La suma de los números pares del 1 al 100 es: 56\n",
            "La suma de los números pares del 1 al 100 es: 72\n",
            "La suma de los números pares del 1 al 100 es: 90\n",
            "La suma de los números pares del 1 al 100 es: 110\n",
            "La suma de los números pares del 1 al 100 es: 132\n",
            "La suma de los números pares del 1 al 100 es: 156\n",
            "La suma de los números pares del 1 al 100 es: 182\n",
            "La suma de los números pares del 1 al 100 es: 210\n",
            "La suma de los números pares del 1 al 100 es: 240\n",
            "La suma de los números pares del 1 al 100 es: 272\n",
            "La suma de los números pares del 1 al 100 es: 306\n",
            "La suma de los números pares del 1 al 100 es: 342\n",
            "La suma de los números pares del 1 al 100 es: 380\n",
            "La suma de los números pares del 1 al 100 es: 420\n",
            "La suma de los números pares del 1 al 100 es: 462\n",
            "La suma de los números pares del 1 al 100 es: 506\n",
            "La suma de los números pares del 1 al 100 es: 552\n",
            "La suma de los números pares del 1 al 100 es: 600\n",
            "La suma de los números pares del 1 al 100 es: 650\n",
            "La suma de los números pares del 1 al 100 es: 702\n",
            "La suma de los números pares del 1 al 100 es: 756\n",
            "La suma de los números pares del 1 al 100 es: 812\n",
            "La suma de los números pares del 1 al 100 es: 870\n",
            "La suma de los números pares del 1 al 100 es: 930\n",
            "La suma de los números pares del 1 al 100 es: 992\n",
            "La suma de los números pares del 1 al 100 es: 1056\n",
            "La suma de los números pares del 1 al 100 es: 1122\n",
            "La suma de los números pares del 1 al 100 es: 1190\n",
            "La suma de los números pares del 1 al 100 es: 1260\n",
            "La suma de los números pares del 1 al 100 es: 1332\n",
            "La suma de los números pares del 1 al 100 es: 1406\n",
            "La suma de los números pares del 1 al 100 es: 1482\n",
            "La suma de los números pares del 1 al 100 es: 1560\n",
            "La suma de los números pares del 1 al 100 es: 1640\n",
            "La suma de los números pares del 1 al 100 es: 1722\n",
            "La suma de los números pares del 1 al 100 es: 1806\n",
            "La suma de los números pares del 1 al 100 es: 1892\n",
            "La suma de los números pares del 1 al 100 es: 1980\n",
            "La suma de los números pares del 1 al 100 es: 2070\n",
            "La suma de los números pares del 1 al 100 es: 2162\n",
            "La suma de los números pares del 1 al 100 es: 2256\n",
            "La suma de los números pares del 1 al 100 es: 2352\n",
            "La suma de los números pares del 1 al 100 es: 2450\n",
            "La suma de los números pares del 1 al 100 es: 2550\n"
          ]
        }
      ]
    },
    {
      "cell_type": "markdown",
      "source": [
        "3 Escribe un programa en Python que imprima el siguiente patrón u;lizando ciclos\n",
        "anidados:\n",
        "1\n",
        "12\n",
        "123\n",
        "1234\n",
        "12345\n",
        "Etc….\n"
      ],
      "metadata": {
        "id": "I_IGVsqwOM-T"
      }
    },
    {
      "cell_type": "code",
      "source": [
        "num_filas = int(input(\"Ingrese el número de filas: \"))\n",
        "for i in range(1, num_filas + 1):\n",
        "    for j in range(1, i + 1):\n",
        "        print(j, end=\"\")\n",
        "    print()  # Salto de línea después de cada fila\n",
        ""
      ],
      "metadata": {
        "colab": {
          "base_uri": "https://localhost:8080/"
        },
        "id": "GOMhsnNEOjXz",
        "outputId": "00fcf1bd-aef8-4852-e60e-8ce5be991f99"
      },
      "execution_count": 13,
      "outputs": [
        {
          "output_type": "stream",
          "name": "stdout",
          "text": [
            "Ingrese el número de filas: 23\n",
            "1\n",
            "12\n",
            "123\n",
            "1234\n",
            "12345\n",
            "123456\n",
            "1234567\n",
            "12345678\n",
            "123456789\n",
            "12345678910\n",
            "1234567891011\n",
            "123456789101112\n",
            "12345678910111213\n",
            "1234567891011121314\n",
            "123456789101112131415\n",
            "12345678910111213141516\n",
            "1234567891011121314151617\n",
            "123456789101112131415161718\n",
            "12345678910111213141516171819\n",
            "1234567891011121314151617181920\n",
            "123456789101112131415161718192021\n",
            "12345678910111213141516171819202122\n",
            "1234567891011121314151617181920212223\n"
          ]
        }
      ]
    },
    {
      "cell_type": "markdown",
      "source": [
        " 4 Escribe un programa en Python que solicite al usuario un número entero posi;vo y\n",
        "luego determine si ese número es primo o no u;lizando un ciclo while.\n",
        "\n"
      ],
      "metadata": {
        "id": "KvPfNbbaP5pH"
      }
    },
    {
      "cell_type": "code",
      "source": [
        "# Solicitar al usuario un número entero positivo\n",
        "numero = int(input(\"Ingrese un número entero positivo: \"))\n",
        "\n",
        "# Verificar si el número es menor o igual a 1\n",
        "if numero <= 1:\n",
        "    print(\"El número no es primo.\")\n",
        "else:\n",
        "    # Inicializar una variable para contar los divisores\n",
        "    divisores = 0\n",
        "    # Inicializar un divisor potencial\n",
        "    divisor_potencial = 2\n",
        "\n",
        "    # Usar un ciclo while para comprobar si hay divisores\n",
        "    while divisor_potencial <= numero // 2:\n",
        "        if numero % divisor_potencial == 0:\n",
        "            divisores += 1\n",
        "            break  # Si se encuentra un divisor, salir del bucle\n",
        "        divisor_potencial += 1\n",
        "\n",
        "    # Comprobar si el número de divisores es 0 (es primo) o mayor que 0 (no es primo)\n",
        "    if divisores == 0:\n",
        "        print(f\"{numero} es un número primo.\")\n",
        "    else:\n",
        "        print(f\"{numero} no es un número primo.\")"
      ],
      "metadata": {
        "colab": {
          "base_uri": "https://localhost:8080/"
        },
        "id": "VFwDEJrBP6Rw",
        "outputId": "5f366eae-efe8-4158-b9f8-d4b5aa092845"
      },
      "execution_count": 27,
      "outputs": [
        {
          "output_type": "stream",
          "name": "stdout",
          "text": [
            "Ingrese un número entero positivo: 3\n",
            "3 es un número primo.\n"
          ]
        }
      ]
    },
    {
      "cell_type": "markdown",
      "source": [
        "5 Escribe un programa en Python que incluya un ciclo while que no se detenga hasta\n",
        "que el usuario ingrese \"salir\" como entrada. Dentro del ciclo, permite al usuario\n",
        "realizar operaciones matemá;cas simples como suma, resta, mul;plicación o\n",
        "división."
      ],
      "metadata": {
        "id": "JRFNwMywXZWb"
      }
    },
    {
      "cell_type": "code",
      "source": [],
      "metadata": {
        "id": "b2dbOHlTYOui"
      },
      "execution_count": null,
      "outputs": []
    },
    {
      "cell_type": "code",
      "source": [
        "while True:\n",
        "    operacion = input(\"Ingrese una operación matemática (+, -, *, /) o 'salir' para finalizar: \")\n",
        "    if operacion.lower() == \"salir\":\n",
        "        print(\"¡Adiós!\")\n",
        "        break\n",
        "    try:\n",
        "        numero1 = float(input(\"Ingrese el primer número: \"))\n",
        "        numero2 = float(input(\"Ingrese el segundo número: \"))\n",
        "    except ValueError:\n",
        "        print(\"Por favor, ingrese números válidos.\")\n",
        "        continue\n",
        "    if operacion == \"+\":\n",
        "        resultado = numero1 + numero2\n",
        "    elif operacion == \"-\":\n",
        "        resultado = numero1 - numero2\n",
        "    elif operacion == \"*\":\n",
        "        resultado = numero1 * numero2\n",
        "    elif operacion == \"/\":\n",
        "        if numero2 == 0:\n",
        "            print(\"Error: No se puede dividir entre cero.\")\n",
        "            continue\n",
        "        resultado = numero1 / numero2\n",
        "    else:\n",
        "        print(\"Operación no válida.\")\n",
        "        continue\n",
        "\n",
        "    print(\"Resultado:\", resultado)\n"
      ],
      "metadata": {
        "colab": {
          "base_uri": "https://localhost:8080/"
        },
        "id": "dnQm2CNRXZz5",
        "outputId": "bf2f596c-a2c2-42e7-89ad-02794f6bc689"
      },
      "execution_count": 35,
      "outputs": [
        {
          "output_type": "stream",
          "name": "stdout",
          "text": [
            "Ingrese una operación matemática (+, -, *, /) o 'salir' para finalizar: +\n",
            "Ingrese el primer número: 38\n",
            "Ingrese el segundo número: 29\n",
            "Resultado: 67.0\n",
            "Ingrese una operación matemática (+, -, *, /) o 'salir' para finalizar: -\n",
            "Ingrese el primer número: 100\n",
            "Ingrese el segundo número: 78\n",
            "Resultado: 22.0\n",
            "Ingrese una operación matemática (+, -, *, /) o 'salir' para finalizar: *\n",
            "Ingrese el primer número: 400\n",
            "Ingrese el segundo número: 15\n",
            "Resultado: 6000.0\n",
            "Ingrese una operación matemática (+, -, *, /) o 'salir' para finalizar: /\n",
            "Ingrese el primer número: 7\n",
            "Ingrese el segundo número: 10\n",
            "Resultado: 0.7\n",
            "Ingrese una operación matemática (+, -, *, /) o 'salir' para finalizar: Salir\n",
            "¡Adiós!\n"
          ]
        }
      ]
    },
    {
      "cell_type": "markdown",
      "source": [
        "6 Escribe un programa en Python que imprima los números del 1 al número ingresado\n",
        "por el usuario, en orden descendente u;lizando un ciclo for y la función range()."
      ],
      "metadata": {
        "id": "nw9ZhTUMbV7E"
      }
    },
    {
      "cell_type": "code",
      "source": [
        "numero = int(input(\"Ingrese un número entero: \"))\n",
        "for i in range(numero, 0, -8):\n",
        "    print(i)"
      ],
      "metadata": {
        "colab": {
          "base_uri": "https://localhost:8080/"
        },
        "id": "nebBnODvbVgS",
        "outputId": "75756751-6cc9-47a1-8a3b-a9656b5ed362"
      },
      "execution_count": 37,
      "outputs": [
        {
          "output_type": "stream",
          "name": "stdout",
          "text": [
            "Ingrese un número entero: 60\n",
            "60\n",
            "52\n",
            "44\n",
            "36\n",
            "28\n",
            "20\n",
            "12\n",
            "4\n"
          ]
        }
      ]
    },
    {
      "cell_type": "markdown",
      "source": [
        "\n",
        "7 Escribe un programa en Python que imprima la secuencia de números de Fibonacci hasta un valor dado n utilizando un ciclo while"
      ],
      "metadata": {
        "id": "lWoSaZqncKuM"
      }
    },
    {
      "cell_type": "code",
      "source": [
        "n = int(input(\"Ingrese un valor máximo para la secuencia de Fibonacci: \"))\n",
        "a, b = 0, 1\n",
        "print(a)\n",
        "while b <= n:\n",
        "    print(b)\n",
        "    a, b = b, a + b"
      ],
      "metadata": {
        "colab": {
          "base_uri": "https://localhost:8080/"
        },
        "id": "zeCVaPcNcLsd",
        "outputId": "1f3cac27-7afe-42a4-a45c-96ad0f137b8e"
      },
      "execution_count": 40,
      "outputs": [
        {
          "output_type": "stream",
          "name": "stdout",
          "text": [
            "Ingrese un valor máximo para la secuencia de Fibonacci: 60\n",
            "0\n",
            "1\n",
            "1\n",
            "2\n",
            "3\n",
            "5\n",
            "8\n",
            "13\n",
            "21\n",
            "34\n",
            "55\n"
          ]
        }
      ]
    },
    {
      "cell_type": "markdown",
      "source": [
        "8 Escribe un programa en Python que solicite al usuario un número entero positivo y luego calcule la suma de sus dígitos utilizando un ciclo while\n",
        "\n",
        "\n"
      ],
      "metadata": {
        "id": "PP-AJvDPeCKt"
      }
    },
    {
      "cell_type": "code",
      "source": [
        "numero = int(input(\"Por favor, ingresa un número entero positivo: \"))\n",
        "if numero < 0:\n",
        "    print(\"El número ingresado no es positivo.\")\n",
        "else:\n",
        "\n",
        "    suma_digitos = 0\n",
        "\n",
        "\n",
        "    while numero > 0:\n",
        "\n",
        "        digito = numero % 10\n",
        "\n",
        "\n",
        "        suma_digitos += digito\n",
        "\n",
        "\n",
        "        numero //= 10\n",
        "\n",
        "\n",
        "    print(\"La suma de los dígitos es:\", suma_digitos)"
      ],
      "metadata": {
        "colab": {
          "base_uri": "https://localhost:8080/"
        },
        "id": "B5yKPUcJeDRo",
        "outputId": "95f25e41-67d6-4d52-9ca3-544994e566f7"
      },
      "execution_count": 42,
      "outputs": [
        {
          "output_type": "stream",
          "name": "stdout",
          "text": [
            "Por favor, ingresa un número entero positivo: 36\n",
            "La suma de los dígitos es: 9\n"
          ]
        }
      ]
    },
    {
      "cell_type": "code",
      "source": [
        "# Solicitar al usuario un número entero positivo\n",
        "numero = int(input(\"Ingrese un número entero positivo: \"))\n",
        "\n",
        "# Verificar si el número ingresado es positivo\n",
        "if numero < 0:\n",
        "    print(\"Por favor, ingrese un número entero positivo.\")\n",
        "else:\n",
        "    # Inicializar la variable para almacenar la suma de los dígitos\n",
        "    suma_digitos = 0\n",
        "\n",
        "    # Utilizar un ciclo while para sumar los dígitos\n",
        "    while numero > 0:\n",
        "        # Obtener el último dígito\n",
        "        digito = numero % 10\n",
        "\n",
        "        # Sumar el dígito al total\n",
        "        suma_digitos += digito\n",
        "\n",
        "        # Eliminar el último dígito del número\n",
        "        numero = numero // 10\n",
        "\n",
        "    # Imprimir la suma de los dígitos\n",
        "    print(\"La suma de los dígitos es:\", suma_digitos)"
      ],
      "metadata": {
        "colab": {
          "base_uri": "https://localhost:8080/"
        },
        "id": "zdMMNrxYfFGX",
        "outputId": "28118f63-6450-42cb-a1b8-02036dd7c9ea"
      },
      "execution_count": 43,
      "outputs": [
        {
          "output_type": "stream",
          "name": "stdout",
          "text": [
            "Ingrese un número entero positivo: 16\n",
            "La suma de los dígitos es: 7\n"
          ]
        }
      ]
    }
  ]
}